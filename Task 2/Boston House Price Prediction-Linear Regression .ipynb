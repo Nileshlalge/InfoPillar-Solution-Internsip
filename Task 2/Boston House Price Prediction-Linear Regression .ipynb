{
 "cells": [
  {
   "cell_type": "markdown",
   "metadata": {},
   "source": [
    "## Name - Nilesh Dilip Lalge\n",
    "## Internship Domain - Data Science\n",
    "## Task - Bos"
   ]
  },
  {
   "cell_type": "code",
   "execution_count": 9,
   "metadata": {},
   "outputs": [],
   "source": [
    "import pandas as pd \n",
    "import numpy as np \n",
    "import matplotlib as plt\n",
    "import seaborn as sns\n",
    "%matplotlib inline\n",
    "\n",
    "import warnings\n",
    "warnings.filterwarnings('ignore')"
   ]
  },
  {
   "cell_type": "code",
   "execution_count": 2,
   "metadata": {},
   "outputs": [
    {
     "data": {
      "text/html": [
       "<div>\n",
       "<style scoped>\n",
       "    .dataframe tbody tr th:only-of-type {\n",
       "        vertical-align: middle;\n",
       "    }\n",
       "\n",
       "    .dataframe tbody tr th {\n",
       "        vertical-align: top;\n",
       "    }\n",
       "\n",
       "    .dataframe thead th {\n",
       "        text-align: right;\n",
       "    }\n",
       "</style>\n",
       "<table border=\"1\" class=\"dataframe\">\n",
       "  <thead>\n",
       "    <tr style=\"text-align: right;\">\n",
       "      <th></th>\n",
       "      <th>CRIM</th>\n",
       "      <th>ZN</th>\n",
       "      <th>INDUS</th>\n",
       "      <th>CHAS</th>\n",
       "      <th>NOX</th>\n",
       "      <th>RM</th>\n",
       "      <th>AGE</th>\n",
       "      <th>DIS</th>\n",
       "      <th>RAD</th>\n",
       "      <th>TAX</th>\n",
       "      <th>PT</th>\n",
       "      <th>B</th>\n",
       "      <th>LSTAT</th>\n",
       "      <th>MV</th>\n",
       "    </tr>\n",
       "  </thead>\n",
       "  <tbody>\n",
       "    <tr>\n",
       "      <th>0</th>\n",
       "      <td>0.00632</td>\n",
       "      <td>18.0</td>\n",
       "      <td>2.31</td>\n",
       "      <td>0</td>\n",
       "      <td>0.538</td>\n",
       "      <td>6.575</td>\n",
       "      <td>65.199997</td>\n",
       "      <td>4.0900</td>\n",
       "      <td>1</td>\n",
       "      <td>296</td>\n",
       "      <td>15.300000</td>\n",
       "      <td>396.899994</td>\n",
       "      <td>4.98</td>\n",
       "      <td>24.000000</td>\n",
       "    </tr>\n",
       "    <tr>\n",
       "      <th>1</th>\n",
       "      <td>0.02731</td>\n",
       "      <td>0.0</td>\n",
       "      <td>7.07</td>\n",
       "      <td>0</td>\n",
       "      <td>0.469</td>\n",
       "      <td>6.421</td>\n",
       "      <td>78.900002</td>\n",
       "      <td>4.9671</td>\n",
       "      <td>2</td>\n",
       "      <td>242</td>\n",
       "      <td>17.799999</td>\n",
       "      <td>396.899994</td>\n",
       "      <td>9.14</td>\n",
       "      <td>21.600000</td>\n",
       "    </tr>\n",
       "    <tr>\n",
       "      <th>2</th>\n",
       "      <td>0.02729</td>\n",
       "      <td>0.0</td>\n",
       "      <td>7.07</td>\n",
       "      <td>0</td>\n",
       "      <td>0.469</td>\n",
       "      <td>7.185</td>\n",
       "      <td>61.099998</td>\n",
       "      <td>4.9671</td>\n",
       "      <td>2</td>\n",
       "      <td>242</td>\n",
       "      <td>17.799999</td>\n",
       "      <td>392.829987</td>\n",
       "      <td>4.03</td>\n",
       "      <td>34.700001</td>\n",
       "    </tr>\n",
       "    <tr>\n",
       "      <th>3</th>\n",
       "      <td>0.03237</td>\n",
       "      <td>0.0</td>\n",
       "      <td>2.18</td>\n",
       "      <td>0</td>\n",
       "      <td>0.458</td>\n",
       "      <td>6.998</td>\n",
       "      <td>45.799999</td>\n",
       "      <td>6.0622</td>\n",
       "      <td>3</td>\n",
       "      <td>222</td>\n",
       "      <td>18.700001</td>\n",
       "      <td>394.630005</td>\n",
       "      <td>2.94</td>\n",
       "      <td>33.400002</td>\n",
       "    </tr>\n",
       "    <tr>\n",
       "      <th>4</th>\n",
       "      <td>0.06905</td>\n",
       "      <td>0.0</td>\n",
       "      <td>2.18</td>\n",
       "      <td>0</td>\n",
       "      <td>0.458</td>\n",
       "      <td>7.147</td>\n",
       "      <td>54.200001</td>\n",
       "      <td>6.0622</td>\n",
       "      <td>3</td>\n",
       "      <td>222</td>\n",
       "      <td>18.700001</td>\n",
       "      <td>396.899994</td>\n",
       "      <td>5.33</td>\n",
       "      <td>36.200001</td>\n",
       "    </tr>\n",
       "  </tbody>\n",
       "</table>\n",
       "</div>"
      ],
      "text/plain": [
       "      CRIM    ZN  INDUS  CHAS    NOX     RM        AGE     DIS  RAD  TAX  \\\n",
       "0  0.00632  18.0   2.31     0  0.538  6.575  65.199997  4.0900    1  296   \n",
       "1  0.02731   0.0   7.07     0  0.469  6.421  78.900002  4.9671    2  242   \n",
       "2  0.02729   0.0   7.07     0  0.469  7.185  61.099998  4.9671    2  242   \n",
       "3  0.03237   0.0   2.18     0  0.458  6.998  45.799999  6.0622    3  222   \n",
       "4  0.06905   0.0   2.18     0  0.458  7.147  54.200001  6.0622    3  222   \n",
       "\n",
       "          PT           B  LSTAT         MV  \n",
       "0  15.300000  396.899994   4.98  24.000000  \n",
       "1  17.799999  396.899994   9.14  21.600000  \n",
       "2  17.799999  392.829987   4.03  34.700001  \n",
       "3  18.700001  394.630005   2.94  33.400002  \n",
       "4  18.700001  396.899994   5.33  36.200001  "
      ]
     },
     "execution_count": 2,
     "metadata": {},
     "output_type": "execute_result"
    }
   ],
   "source": [
    "data = pd.read_excel('boston.xlsx')\n",
    "data.head()"
   ]
  },
  {
   "cell_type": "code",
   "execution_count": 3,
   "metadata": {},
   "outputs": [
    {
     "name": "stdout",
     "output_type": "stream",
     "text": [
      "(506, 14)\n",
      "CRIM     float64\n",
      "ZN       float64\n",
      "INDUS    float64\n",
      "CHAS       int64\n",
      "NOX      float64\n",
      "RM       float64\n",
      "AGE      float64\n",
      "DIS      float64\n",
      "RAD        int64\n",
      "TAX        int64\n",
      "PT       float64\n",
      "B        float64\n",
      "LSTAT    float64\n",
      "MV       float64\n",
      "dtype: object\n"
     ]
    }
   ],
   "source": [
    "#Exploratory Analysis\n",
    "print (data.shape)\n",
    "print (data.dtypes)"
   ]
  },
  {
   "cell_type": "code",
   "execution_count": 4,
   "metadata": {},
   "outputs": [
    {
     "data": {
      "text/plain": [
       "array([[<AxesSubplot:title={'center':'CRIM'}>,\n",
       "        <AxesSubplot:title={'center':'ZN'}>,\n",
       "        <AxesSubplot:title={'center':'INDUS'}>,\n",
       "        <AxesSubplot:title={'center':'CHAS'}>],\n",
       "       [<AxesSubplot:title={'center':'NOX'}>,\n",
       "        <AxesSubplot:title={'center':'RM'}>,\n",
       "        <AxesSubplot:title={'center':'AGE'}>,\n",
       "        <AxesSubplot:title={'center':'DIS'}>],\n",
       "       [<AxesSubplot:title={'center':'RAD'}>,\n",
       "        <AxesSubplot:title={'center':'TAX'}>,\n",
       "        <AxesSubplot:title={'center':'PT'}>,\n",
       "        <AxesSubplot:title={'center':'B'}>],\n",
       "       [<AxesSubplot:title={'center':'LSTAT'}>,\n",
       "        <AxesSubplot:title={'center':'MV'}>, <AxesSubplot:>,\n",
       "        <AxesSubplot:>]], dtype=object)"
      ]
     },
     "execution_count": 4,
     "metadata": {},
     "output_type": "execute_result"
    },
    {
     "data": {
      "image/png": "[encoded data removed]",
      "text/plain": [
       "<Figure size 1008x1008 with 16 Axes>"
      ]
     },
     "metadata": {
      "needs_background": "light"
     },
     "output_type": "display_data"
    }
   ],
   "source": [
    "data.hist(figsize=(14,14))"
   ]
  },
  {
   "cell_type": "code",
   "execution_count": 5,
   "metadata": {},
   "outputs": [
    {
     "data": {
      "text/html": [
       "<div>\n",
       "<style scoped>\n",
       "    .dataframe tbody tr th:only-of-type {\n",
       "        vertical-align: middle;\n",
       "    }\n",
       "\n",
       "    .dataframe tbody tr th {\n",
       "        vertical-align: top;\n",
       "    }\n",
       "\n",
       "    .dataframe thead th {\n",
       "        text-align: right;\n",
       "    }\n",
       "</style>\n",
       "<table border=\"1\" class=\"dataframe\">\n",
       "  <thead>\n",
       "    <tr style=\"text-align: right;\">\n",
       "      <th></th>\n",
       "      <th>CRIM</th>\n",
       "      <th>ZN</th>\n",
       "      <th>INDUS</th>\n",
       "      <th>CHAS</th>\n",
       "      <th>NOX</th>\n",
       "      <th>RM</th>\n",
       "      <th>AGE</th>\n",
       "      <th>DIS</th>\n",
       "      <th>RAD</th>\n",
       "      <th>TAX</th>\n",
       "      <th>PT</th>\n",
       "      <th>B</th>\n",
       "      <th>LSTAT</th>\n",
       "      <th>MV</th>\n",
       "    </tr>\n",
       "  </thead>\n",
       "  <tbody>\n",
       "    <tr>\n",
       "      <th>count</th>\n",
       "      <td>506.000000</td>\n",
       "      <td>506.000000</td>\n",
       "      <td>506.000000</td>\n",
       "      <td>506.000000</td>\n",
       "      <td>506.000000</td>\n",
       "      <td>506.000000</td>\n",
       "      <td>506.000000</td>\n",
       "      <td>506.000000</td>\n",
       "      <td>506.000000</td>\n",
       "      <td>506.000000</td>\n",
       "      <td>506.000000</td>\n",
       "      <td>506.000000</td>\n",
       "      <td>506.000000</td>\n",
       "      <td>506.000000</td>\n",
       "    </tr>\n",
       "    <tr>\n",
       "      <th>mean</th>\n",
       "      <td>3.613524</td>\n",
       "      <td>11.363636</td>\n",
       "      <td>11.136779</td>\n",
       "      <td>0.069170</td>\n",
       "      <td>0.554695</td>\n",
       "      <td>6.284634</td>\n",
       "      <td>68.574901</td>\n",
       "      <td>3.795043</td>\n",
       "      <td>9.549407</td>\n",
       "      <td>408.237154</td>\n",
       "      <td>18.455534</td>\n",
       "      <td>356.674030</td>\n",
       "      <td>12.653063</td>\n",
       "      <td>22.532806</td>\n",
       "    </tr>\n",
       "    <tr>\n",
       "      <th>std</th>\n",
       "      <td>8.601545</td>\n",
       "      <td>23.322453</td>\n",
       "      <td>6.860353</td>\n",
       "      <td>0.253994</td>\n",
       "      <td>0.115878</td>\n",
       "      <td>0.702617</td>\n",
       "      <td>28.148862</td>\n",
       "      <td>2.105710</td>\n",
       "      <td>8.707259</td>\n",
       "      <td>168.537116</td>\n",
       "      <td>2.164946</td>\n",
       "      <td>91.294863</td>\n",
       "      <td>7.141062</td>\n",
       "      <td>9.197104</td>\n",
       "    </tr>\n",
       "    <tr>\n",
       "      <th>min</th>\n",
       "      <td>0.006320</td>\n",
       "      <td>0.000000</td>\n",
       "      <td>0.460000</td>\n",
       "      <td>0.000000</td>\n",
       "      <td>0.385000</td>\n",
       "      <td>3.561000</td>\n",
       "      <td>2.900000</td>\n",
       "      <td>1.129600</td>\n",
       "      <td>1.000000</td>\n",
       "      <td>187.000000</td>\n",
       "      <td>12.600000</td>\n",
       "      <td>0.320000</td>\n",
       "      <td>1.730000</td>\n",
       "      <td>5.000000</td>\n",
       "    </tr>\n",
       "    <tr>\n",
       "      <th>25%</th>\n",
       "      <td>0.082045</td>\n",
       "      <td>0.000000</td>\n",
       "      <td>5.190000</td>\n",
       "      <td>0.000000</td>\n",
       "      <td>0.449000</td>\n",
       "      <td>5.885500</td>\n",
       "      <td>45.025000</td>\n",
       "      <td>2.100175</td>\n",
       "      <td>4.000000</td>\n",
       "      <td>279.000000</td>\n",
       "      <td>17.400000</td>\n",
       "      <td>375.377487</td>\n",
       "      <td>6.950000</td>\n",
       "      <td>17.025000</td>\n",
       "    </tr>\n",
       "    <tr>\n",
       "      <th>50%</th>\n",
       "      <td>0.256510</td>\n",
       "      <td>0.000000</td>\n",
       "      <td>9.690000</td>\n",
       "      <td>0.000000</td>\n",
       "      <td>0.538000</td>\n",
       "      <td>6.208500</td>\n",
       "      <td>77.500000</td>\n",
       "      <td>3.207450</td>\n",
       "      <td>5.000000</td>\n",
       "      <td>330.000000</td>\n",
       "      <td>19.050000</td>\n",
       "      <td>391.440002</td>\n",
       "      <td>11.360000</td>\n",
       "      <td>21.200001</td>\n",
       "    </tr>\n",
       "    <tr>\n",
       "      <th>75%</th>\n",
       "      <td>3.677083</td>\n",
       "      <td>12.500000</td>\n",
       "      <td>18.100000</td>\n",
       "      <td>0.000000</td>\n",
       "      <td>0.624000</td>\n",
       "      <td>6.623500</td>\n",
       "      <td>94.074999</td>\n",
       "      <td>5.188425</td>\n",
       "      <td>24.000000</td>\n",
       "      <td>666.000000</td>\n",
       "      <td>20.200001</td>\n",
       "      <td>396.225006</td>\n",
       "      <td>16.954999</td>\n",
       "      <td>25.000000</td>\n",
       "    </tr>\n",
       "    <tr>\n",
       "      <th>max</th>\n",
       "      <td>88.976196</td>\n",
       "      <td>100.000000</td>\n",
       "      <td>27.740000</td>\n",
       "      <td>1.000000</td>\n",
       "      <td>0.871000</td>\n",
       "      <td>8.780000</td>\n",
       "      <td>100.000000</td>\n",
       "      <td>12.126500</td>\n",
       "      <td>24.000000</td>\n",
       "      <td>711.000000</td>\n",
       "      <td>22.000000</td>\n",
       "      <td>396.899994</td>\n",
       "      <td>37.970001</td>\n",
       "      <td>50.000000</td>\n",
       "    </tr>\n",
       "  </tbody>\n",
       "</table>\n",
       "</div>"
      ],
      "text/plain": [
       "             CRIM          ZN       INDUS        CHAS         NOX          RM  \\\n",
       "count  506.000000  506.000000  506.000000  506.000000  506.000000  506.000000   \n",
       "mean     3.613524   11.363636   11.136779    0.069170    0.554695    6.284634   \n",
       "std      8.601545   23.322453    6.860353    0.253994    0.115878    0.702617   \n",
       "min      0.006320    0.000000    0.460000    0.000000    0.385000    3.561000   \n",
       "25%      0.082045    0.000000    5.190000    0.000000    0.449000    5.885500   \n",
       "50%      0.256510    0.000000    9.690000    0.000000    0.538000    6.208500   \n",
       "75%      3.677083   12.500000   18.100000    0.000000    0.624000    6.623500   \n",
       "max     88.976196  100.000000   27.740000    1.000000    0.871000    8.780000   \n",
       "\n",
       "              AGE         DIS         RAD         TAX          PT           B  \\\n",
       "count  506.000000  506.000000  506.000000  506.000000  506.000000  506.000000   \n",
       "mean    68.574901    3.795043    9.549407  408.237154   18.455534  356.674030   \n",
       "std     28.148862    2.105710    8.707259  168.537116    2.164946   91.294863   \n",
       "min      2.900000    1.129600    1.000000  187.000000   12.600000    0.320000   \n",
       "25%     45.025000    2.100175    4.000000  279.000000   17.400000  375.377487   \n",
       "50%     77.500000    3.207450    5.000000  330.000000   19.050000  391.440002   \n",
       "75%     94.074999    5.188425   24.000000  666.000000   20.200001  396.225006   \n",
       "max    100.000000   12.126500   24.000000  711.000000   22.000000  396.899994   \n",
       "\n",
       "            LSTAT          MV  \n",
       "count  506.000000  506.000000  \n",
       "mean    12.653063   22.532806  \n",
       "std      7.141062    9.197104  \n",
       "min      1.730000    5.000000  \n",
       "25%      6.950000   17.025000  \n",
       "50%     11.360000   21.200001  \n",
       "75%     16.954999   25.000000  \n",
       "max     37.970001   50.000000  "
      ]
     },
     "execution_count": 5,
     "metadata": {},
     "output_type": "execute_result"
    }
   ],
   "source": [
    "data.describe()"
   ]
  },
  {
   "cell_type": "code",
   "execution_count": 6,
   "metadata": {},
   "outputs": [
    {
     "data": {
      "text/html": [
       "<div>\n",
       "<style scoped>\n",
       "    .dataframe tbody tr th:only-of-type {\n",
       "        vertical-align: middle;\n",
       "    }\n",
       "\n",
       "    .dataframe tbody tr th {\n",
       "        vertical-align: top;\n",
       "    }\n",
       "\n",
       "    .dataframe thead th {\n",
       "        text-align: right;\n",
       "    }\n",
       "</style>\n",
       "<table border=\"1\" class=\"dataframe\">\n",
       "  <thead>\n",
       "    <tr style=\"text-align: right;\">\n",
       "      <th></th>\n",
       "      <th>CRIM</th>\n",
       "      <th>ZN</th>\n",
       "      <th>INDUS</th>\n",
       "      <th>NOX</th>\n",
       "      <th>RM</th>\n",
       "      <th>AGE</th>\n",
       "      <th>DIS</th>\n",
       "      <th>RAD</th>\n",
       "      <th>TAX</th>\n",
       "      <th>PT</th>\n",
       "      <th>B</th>\n",
       "      <th>LSTAT</th>\n",
       "      <th>MV</th>\n",
       "    </tr>\n",
       "    <tr>\n",
       "      <th>CHAS</th>\n",
       "      <th></th>\n",
       "      <th></th>\n",
       "      <th></th>\n",
       "      <th></th>\n",
       "      <th></th>\n",
       "      <th></th>\n",
       "      <th></th>\n",
       "      <th></th>\n",
       "      <th></th>\n",
       "      <th></th>\n",
       "      <th></th>\n",
       "      <th></th>\n",
       "      <th></th>\n",
       "    </tr>\n",
       "  </thead>\n",
       "  <tbody>\n",
       "    <tr>\n",
       "      <th>0</th>\n",
       "      <td>3.744447</td>\n",
       "      <td>11.634820</td>\n",
       "      <td>11.019193</td>\n",
       "      <td>0.551817</td>\n",
       "      <td>6.267174</td>\n",
       "      <td>67.911677</td>\n",
       "      <td>3.851915</td>\n",
       "      <td>9.566879</td>\n",
       "      <td>409.870488</td>\n",
       "      <td>18.527176</td>\n",
       "      <td>355.461038</td>\n",
       "      <td>12.757941</td>\n",
       "      <td>22.093843</td>\n",
       "    </tr>\n",
       "    <tr>\n",
       "      <th>1</th>\n",
       "      <td>1.851670</td>\n",
       "      <td>7.714286</td>\n",
       "      <td>12.719143</td>\n",
       "      <td>0.593426</td>\n",
       "      <td>6.519600</td>\n",
       "      <td>77.500000</td>\n",
       "      <td>3.029709</td>\n",
       "      <td>9.314286</td>\n",
       "      <td>386.257143</td>\n",
       "      <td>17.491429</td>\n",
       "      <td>372.997428</td>\n",
       "      <td>11.241714</td>\n",
       "      <td>28.440000</td>\n",
       "    </tr>\n",
       "  </tbody>\n",
       "</table>\n",
       "</div>"
      ],
      "text/plain": [
       "          CRIM         ZN      INDUS       NOX        RM        AGE       DIS  \\\n",
       "CHAS                                                                            \n",
       "0     3.744447  11.634820  11.019193  0.551817  6.267174  67.911677  3.851915   \n",
       "1     1.851670   7.714286  12.719143  0.593426  6.519600  77.500000  3.029709   \n",
       "\n",
       "           RAD         TAX         PT           B      LSTAT         MV  \n",
       "CHAS                                                                     \n",
       "0     9.566879  409.870488  18.527176  355.461038  12.757941  22.093843  \n",
       "1     9.314286  386.257143  17.491429  372.997428  11.241714  28.440000  "
      ]
     },
     "execution_count": 6,
     "metadata": {},
     "output_type": "execute_result"
    }
   ],
   "source": [
    "#Segmentation\n",
    "data.groupby('CHAS').mean()"
   ]
  },
  {
   "cell_type": "code",
   "execution_count": 7,
   "metadata": {},
   "outputs": [
    {
     "data": {
      "text/plain": [
       "<AxesSubplot:>"
      ]
     },
     "execution_count": 7,
     "metadata": {},
     "output_type": "execute_result"
    },
    {
     "data": {
      "image/png": "[encoded data removed]",
      "text/plain": [
       "<Figure size 432x288 with 2 Axes>"
      ]
     },
     "metadata": {
      "needs_background": "light"
     },
     "output_type": "display_data"
    }
   ],
   "source": [
    "sns.heatmap(data.corr())#As you can see No.of Rooms is highly correaleated to the MV and ZN ,B have the positive corr."
   ]
  },
  {
   "cell_type": "code",
   "execution_count": 10,
   "metadata": {},
   "outputs": [
    {
     "data": {
      "text/plain": [
       "<AxesSubplot:xlabel='MV', ylabel='Density'>"
      ]
     },
     "execution_count": 10,
     "metadata": {},
     "output_type": "execute_result"
    },
    {
     "data": {
      "image/png": "[encoded data removed]",
      "text/plain": [
       "<Figure size 432x288 with 1 Axes>"
      ]
     },
     "metadata": {
      "needs_background": "light"
     },
     "output_type": "display_data"
    }
   ],
   "source": [
    "sns.distplot(data['MV'])#actually the plot shows the right skewness . i.e it has an outliers towards the right so \n",
    "#It is useful plot to transform the MV into log for better hypothesis during Regresssion."
   ]
  },
  {
   "cell_type": "code",
   "execution_count": 11,
   "metadata": {},
   "outputs": [
    {
     "data": {
      "text/plain": [
       "(506, 14)"
      ]
     },
     "execution_count": 11,
     "metadata": {},
     "output_type": "execute_result"
    }
   ],
   "source": [
    "#Step 3- Data Cleaning \n",
    "data.drop\n",
    "data.shape\n",
    "#No dulipicate values , So no need to remove any data.\n",
    "#Fix Structures like typos , mislabled generally cleanning the structure of the Data-NO NEED data is perfect."
   ]
  },
  {
   "cell_type": "code",
   "execution_count": 12,
   "metadata": {},
   "outputs": [
    {
     "data": {
      "text/plain": [
       "<AxesSubplot:xlabel='MV'>"
      ]
     },
     "execution_count": 12,
     "metadata": {},
     "output_type": "execute_result"
    },
    {
     "data": {
      "image/png": "[encoded data removed]",
      "text/plain": [
       "<Figure size 432x288 with 1 Axes>"
      ]
     },
     "metadata": {
      "needs_background": "light"
     },
     "output_type": "display_data"
    }
   ],
   "source": [
    "#Filter the Outliers\n",
    "sns.boxplot(data.MV)"
   ]
  },
  {
   "cell_type": "code",
   "execution_count": 13,
   "metadata": {},
   "outputs": [
    {
     "data": {
      "text/plain": [
       "-0.33032130315877517"
      ]
     },
     "execution_count": 13,
     "metadata": {},
     "output_type": "execute_result"
    },
    {
     "data": {
      "image/png": "[encoded data removed]",
      "text/plain": [
       "<Figure size 432x288 with 1 Axes>"
      ]
     },
     "metadata": {
      "needs_background": "light"
     },
     "output_type": "display_data"
    }
   ],
   "source": [
    "sns.distplot(np.log(data.MV))\n",
    "np.log(data.MV).skew()#Better to take log to get better accurarcy "
   ]
  },
  {
   "cell_type": "code",
   "execution_count": 14,
   "metadata": {},
   "outputs": [
    {
     "name": "stdout",
     "output_type": "stream",
     "text": [
      "False    506\n",
      "Name: CRIM, dtype: int64\n",
      "False    506\n",
      "Name: ZN, dtype: int64\n",
      "False    506\n",
      "Name: INDUS, dtype: int64\n",
      "False    506\n",
      "Name: CHAS, dtype: int64\n",
      "False    506\n",
      "Name: NOX, dtype: int64\n",
      "False    506\n",
      "Name: RM, dtype: int64\n",
      "False    506\n",
      "Name: AGE, dtype: int64\n",
      "False    506\n",
      "Name: DIS, dtype: int64\n",
      "False    506\n",
      "Name: RAD, dtype: int64\n",
      "False    506\n",
      "Name: TAX, dtype: int64\n",
      "False    506\n",
      "Name: PT, dtype: int64\n",
      "False    506\n",
      "Name: B, dtype: int64\n",
      "False    506\n",
      "Name: LSTAT, dtype: int64\n",
      "False    506\n",
      "Name: MV, dtype: int64\n"
     ]
    }
   ],
   "source": [
    "#Missing Values \n",
    "for columns in data.columns:\n",
    "    print(data[columns].isnull().value_counts())#It doesnt contains any Missing Values.So , we can move to the next Step"
   ]
  },
  {
   "cell_type": "code",
   "execution_count": 15,
   "metadata": {},
   "outputs": [],
   "source": [
    "#Step 4 - Feature Engneering \n",
    "#Combination of Sparse Classes can't be done as there is only 2 class for CHAS and it is also  converted into the\n",
    "#dummy variable and hence no need to convert.\n",
    "#Removing the unused Features : As per my knowledge there are no  unused Features."
   ]
  },
  {
   "cell_type": "code",
   "execution_count": 16,
   "metadata": {},
   "outputs": [
    {
     "data": {
      "text/plain": [
       "0    24.000000\n",
       "1    21.600000\n",
       "2    34.700001\n",
       "3    33.400002\n",
       "4    36.200001\n",
       "Name: MV, dtype: float64"
      ]
     },
     "execution_count": 16,
     "metadata": {},
     "output_type": "execute_result"
    }
   ],
   "source": [
    "#Step 5 - Model Trainning \n",
    "#Split and Train \n",
    "X=data.drop('MV',axis =1)\n",
    "y=data['MV']\n",
    "y.head()"
   ]
  },
  {
   "cell_type": "code",
   "execution_count": 20,
   "metadata": {},
   "outputs": [
    {
     "data": {
      "text/plain": [
       "((404, 13), (102, 13), (404,), (102,))"
      ]
     },
     "execution_count": 20,
     "metadata": {},
     "output_type": "execute_result"
    }
   ],
   "source": [
    "from sklearn.model_selection import train_test_split\n",
    "X_train , X_test,y_train , y_test =train_test_split(X,y,test_size =0.2, random_state=100)\n",
    "X_train.shape , X_test.shape,y_train.shape , y_test.shape"
   ]
  },
  {
   "cell_type": "code",
   "execution_count": 21,
   "metadata": {},
   "outputs": [],
   "source": [
    "#Data Preprocessing \n",
    "from sklearn.preprocessing import StandardScaler\n",
    "#making a pipeline \n",
    "from sklearn.pipeline import make_pipeline\n",
    "from sklearn.linear_model import LinearRegression , ElasticNet, Ridge, Lasso\n",
    "pipe={\n",
    "    'Enet':make_pipeline(StandardScaler(),ElasticNet()),\n",
    "       'ridge':make_pipeline(StandardScaler(),Ridge()),\n",
    "       'lasso':make_pipeline(StandardScaler(),Lasso())}\n",
    "pipe1={'Linear':make_pipeline(StandardScaler(),LinearRegression),}"
   ]
  },
  {
   "cell_type": "code",
   "execution_count": 22,
   "metadata": {},
   "outputs": [
    {
     "name": "stdout",
     "output_type": "stream",
     "text": [
      "Enet <class 'sklearn.pipeline.Pipeline'>\n",
      "ridge <class 'sklearn.pipeline.Pipeline'>\n",
      "lasso <class 'sklearn.pipeline.Pipeline'>\n"
     ]
    }
   ],
   "source": [
    "#Checking the pipe \n",
    "for key , values in pipe.items():\n",
    "    print(key , type(values))"
   ]
  },
  {
   "cell_type": "code",
   "execution_count": 24,
   "metadata": {},
   "outputs": [
    {
     "data": {
      "text/plain": [
       "0.778333133182586"
      ]
     },
     "execution_count": 24,
     "metadata": {},
     "output_type": "execute_result"
    }
   ],
   "source": [
    "from sklearn.model_selection import cross_val_score\n",
    "from sklearn.preprocessing import StandardScaler\n",
    "standard_scaler = StandardScaler()\n",
    "standard_scaler.fit(X)\n",
    "X_scaled=standard_scaler.transform(X)\n",
    "model1=LinearRegression()\n",
    "score=cross_val_score(model1 , X_scaled, np.log(y) , cv=10 ,scoring='r2')#As we have seen MV has right skewness so,thats why we have taken for better accuracy \n",
    "score.max()\n"
   ]
  },
  {
   "cell_type": "code",
   "execution_count": 25,
   "metadata": {},
   "outputs": [],
   "source": [
    "#Decalring the hyperparameters \n",
    "lasso_hyperparameters = { 'lasso__alpha' : [0.001, 0.005, 0.01, 0.05, 0.1, 0.5, 1, 5, 10] }\n",
    "ridge_hyperparameters = { 'ridge__alpha': [0.001, 0.005, 0.01, 0.05, 0.1, 0.5, 1, 5, 10] }\n",
    "enet_hyperparameters = { 'elasticnet__alpha': [0.001, 0.005, 0.01, 0.05, 0.1, 0.5, 1, 5, 10], \n",
    "                       'elasticnet__l1_ratio': [0.1, 0.3, 0.5, 0.7, 0.9]}"
   ]
  },
  {
   "cell_type": "code",
   "execution_count": 26,
   "metadata": {},
   "outputs": [],
   "source": [
    "#Creating hyperparameters Dictionary \n",
    "hyperparameters={\n",
    "    'lasso' : lasso_hyperparameters,\n",
    "    'ridge' : ridge_hyperparameters,\n",
    "    'Enet' : enet_hyperparameters}"
   ]
  },
  {
   "cell_type": "code",
   "execution_count": 27,
   "metadata": {},
   "outputs": [
    {
     "name": "stdout",
     "output_type": "stream",
     "text": [
      "Enet has been fitted.\n",
      "ridge has been fitted.\n",
      "lasso has been fitted.\n"
     ]
    }
   ],
   "source": [
    "#Fit and Tune using cross-validation \n",
    "fitted_models = {}\n",
    "# Helper for cross-validation\n",
    "from sklearn.model_selection import GridSearchCV\n",
    "for name , pipeline in pipe.items():\n",
    "    model = GridSearchCV(pipeline , hyperparameters[name] ,cv =10 ,n_jobs=-1)\n",
    "    model.fit(X_train,np.log(y_train))\n",
    "    fitted_models[name]=model\n",
    "    print(name, 'has been fitted.')"
   ]
  },
  {
   "cell_type": "code",
   "execution_count": 28,
   "metadata": {},
   "outputs": [
    {
     "name": "stdout",
     "output_type": "stream",
     "text": [
      "Enet 0.7343572943007972\n",
      "ridge 0.734650261514119\n",
      "lasso 0.7338990796810017\n"
     ]
    }
   ],
   "source": [
    "#Evalute the model \n",
    "for name, model in fitted_models.items():\n",
    "    print(name, model.best_score_)#r2-values"
   ]
  },
  {
   "cell_type": "code",
   "execution_count": 29,
   "metadata": {},
   "outputs": [
    {
     "name": "stdout",
     "output_type": "stream",
     "text": [
      "Enet\n",
      "-------\n",
      "R^2:  0.7860904245329483\n",
      "MAE:  0.1403551951886709\n"
     ]
    },
    {
     "data": {
      "image/png": "[encoded data removed]",
      "text/plain": [
       "<Figure size 432x288 with 1 Axes>"
      ]
     },
     "metadata": {
      "needs_background": "light"
     },
     "output_type": "display_data"
    },
    {
     "name": "stdout",
     "output_type": "stream",
     "text": [
      "ridge\n",
      "-------\n",
      "R^2:  0.7837474037913118\n",
      "MAE:  0.14028563538483976\n"
     ]
    },
    {
     "data": {
      "image/png": "[encoded data removed]",
      "text/plain": [
       "<Figure size 432x288 with 1 Axes>"
      ]
     },
     "metadata": {
      "needs_background": "light"
     },
     "output_type": "display_data"
    },
    {
     "name": "stdout",
     "output_type": "stream",
     "text": [
      "lasso\n",
      "-------\n",
      "R^2:  0.7855351404748271\n",
      "MAE:  0.14118304094250525\n"
     ]
    },
    {
     "data": {
      "image/png": "[encoded data removed]",
      "text/plain": [
       "<Figure size 432x288 with 1 Axes>"
      ]
     },
     "metadata": {
      "needs_background": "light"
     },
     "output_type": "display_data"
    },
    {
     "name": "stdout",
     "output_type": "stream",
     "text": [
      "Linear\n",
      "-------\n",
      "R^2:  0.7855351404748271\n",
      "MAE:  0.14118304094250525\n"
     ]
    },
    {
     "data": {
      "image/png": "[encoded data removed]",
      "text/plain": [
       "<Figure size 432x288 with 1 Axes>"
      ]
     },
     "metadata": {
      "needs_background": "light"
     },
     "output_type": "display_data"
    }
   ],
   "source": [
    "from sklearn.metrics import r2_score \n",
    "from sklearn.metrics import mean_absolute_error\n",
    "import matplotlib.pyplot as plt\n",
    "for name, model in fitted_models.items(): \n",
    "    pred_var = model.predict(X_test)\n",
    "    print(name)\n",
    "    print('-------')\n",
    "    print('R^2: ', r2_score(np.log(y_test), pred_var))\n",
    "    print('MAE: ', mean_absolute_error(np.log(y_test), pred_var))\n",
    "    plt.scatter(pred_var, np.log(y_test))\n",
    "    plt.xlabel('predicted')\n",
    "    plt.ylabel('actual')\n",
    "    plt.show()\n",
    "print(\"Linear\")\n",
    "print('-------')\n",
    "model1.fit(X_train,np.log(y_train))\n",
    "pp=model1.predict(X_test)\n",
    "print('R^2: ', r2_score(np.log(y_test), pred_var))\n",
    "print('MAE: ', mean_absolute_error(np.log(y_test), pred_var))\n",
    "plt.scatter(pp, np.log(y_test))\n",
    "plt.xlabel('predicted')\n",
    "plt.ylabel('actual')\n",
    "plt.show()"
   ]
  },
  {
   "cell_type": "code",
   "execution_count": 30,
   "metadata": {},
   "outputs": [],
   "source": [
    "import numpy as np # linear algebra\n",
    "import pandas as pd # data processing, CSV file\n",
    "import matplotlib.pyplot as plt\n",
    "import seaborn as sns\n",
    "from sklearn.linear_model import LinearRegression\n",
    "from sklearn import svm\n",
    "from sklearn.ensemble import RandomForestRegressor\n",
    "from sklearn import linear_model\n",
    "from sklearn.preprocessing import PolynomialFeatures \n",
    "from sklearn.linear_model import LinearRegression\n",
    "from sklearn.metrics import mean_squared_error\n",
    "from sklearn.metrics import mean_absolute_error\n",
    "from math import sqrt\n",
    "from sklearn.preprocessing import StandardScaler"
   ]
  },
  {
   "cell_type": "code",
   "execution_count": null,
   "metadata": {},
   "outputs": [],
   "source": [
    "lr = LinearRegression()\n",
    "lr.fit(X_train,y_train)\n",
    "lr."
   ]
  },
  {
   "cell_type": "code",
   "execution_count": 32,
   "metadata": {},
   "outputs": [
    {
     "name": "stdout",
     "output_type": "stream",
     "text": [
      "   Feature       Score\n",
      "12   LSTAT  476.683930\n",
      "5       RM  372.528767\n",
      "2    INDUS  134.181207\n",
      "10      PT  130.693130\n",
      "9      TAX  107.708276\n",
      "4      NOX   90.489881\n",
      "0     CRIM   78.797484\n",
      "6      AGE   72.408454\n",
      "1       ZN   65.757640\n",
      "8      RAD   60.066488\n"
     ]
    }
   ],
   "source": [
    "from sklearn.feature_selection import SelectKBest\n",
    "from sklearn.feature_selection import f_regression\n",
    "bestfeatures = SelectKBest(score_func=f_regression, k='all')\n",
    "fit = bestfeatures.fit(X_train,y_train)\n",
    "dfscores = pd.DataFrame(fit.scores_)\n",
    "dfcolumns = pd.DataFrame(X_train.columns)\n",
    "featureScores = pd.concat([dfcolumns,dfscores],axis=1)\n",
    "featureScores.columns = ['Feature','Score'] \n",
    "print(featureScores.nlargest(10,'Score')) "
   ]
  },
  {
   "cell_type": "code",
   "execution_count": 33,
   "metadata": {},
   "outputs": [],
   "source": [
    "# LR"
   ]
  },
  {
   "cell_type": "code",
   "execution_count": 34,
   "metadata": {},
   "outputs": [],
   "source": [
    "# Create Empty Lists to append Regression scores and errors\n",
    "model_names = []\n",
    "train_r2_scores = []\n",
    "test_r2_scores = []\n",
    "mae_values = []\n",
    "mse_values = []\n",
    "rmse_values = []"
   ]
  },
  {
   "cell_type": "code",
   "execution_count": 36,
   "metadata": {},
   "outputs": [
    {
     "name": "stdout",
     "output_type": "stream",
     "text": [
      "*** Linear Regression ***\n",
      "Train R-squared:  0.7337332781636852\n",
      "Test R-squared:  0.7555033080079611\n",
      "MAE:  3.248482135350768\n",
      "MSE:  23.616994260635934\n",
      "RMSE:  4.859731912424381\n"
     ]
    }
   ],
   "source": [
    "lr_mdl = LinearRegression()\n",
    "lr_mdl.fit(X_train,y_train) \n",
    "\n",
    "y_pred = lr_mdl.predict(X_test)\n",
    "\n",
    "train_r2 = lr_mdl.score(X_train,y_train)\n",
    "test_r2  = lr_mdl.score(X_test,y_test)\n",
    "mae      = mean_absolute_error(y_test, y_pred)\n",
    "mse      = mean_squared_error(y_test, y_pred)\n",
    "rmse     = sqrt(mean_squared_error(y_test, y_pred))\n",
    "\n",
    "model_names.append(\"Linear Regression\")\n",
    "train_r2_scores.append(train_r2)\n",
    "test_r2_scores.append(test_r2)\n",
    "mae_values.append(mae)\n",
    "mse_values.append(mse)\n",
    "rmse_values.append(rmse)\n",
    "\n",
    "print(\"*** Linear Regression ***\")\n",
    "print(\"Train R-squared: \", train_r2)\n",
    "print(\"Test R-squared: \", test_r2)\n",
    "print(\"MAE: \", mae)\n",
    "print(\"MSE: \", mse)\n",
    "print(\"RMSE: \", rmse)"
   ]
  },
  {
   "cell_type": "code",
   "execution_count": 37,
   "metadata": {},
   "outputs": [],
   "source": [
    "#SVM RBF"
   ]
  },
  {
   "cell_type": "code",
   "execution_count": 39,
   "metadata": {},
   "outputs": [
    {
     "name": "stdout",
     "output_type": "stream",
     "text": [
      "*** SVR - RBF ***\n",
      "Train R-squared:  0.20648531537520987\n",
      "Test R-squared:  0.21596097198410447\n",
      "MAE:  5.410812836645173\n",
      "MSE:  75.73372495922727\n",
      "RMSE:  8.702512565875862\n"
     ]
    }
   ],
   "source": [
    "svm_mdl = svm.SVR()\n",
    "svm_mdl.fit(X_train,y_train) \n",
    "\n",
    "y_pred = svm_mdl.predict(X_test)\n",
    "\n",
    "train_r2 = svm_mdl.score(X_train,y_train)\n",
    "test_r2  = svm_mdl.score(X_test,y_test)\n",
    "mae      = mean_absolute_error(y_test, y_pred)\n",
    "mse      = mean_squared_error(y_test, y_pred)\n",
    "rmse     = sqrt(mean_squared_error(y_test, y_pred))\n",
    "\n",
    "model_names.append(\"SVR - RBF\")\n",
    "train_r2_scores.append(train_r2)\n",
    "test_r2_scores.append(test_r2)\n",
    "mae_values.append(mae)\n",
    "mse_values.append(mse)\n",
    "rmse_values.append(rmse)\n",
    "\n",
    "print(\"*** SVR - RBF ***\")\n",
    "print(\"Train R-squared: \", train_r2)\n",
    "print(\"Test R-squared: \", test_r2)\n",
    "print(\"MAE: \", mae)\n",
    "print(\"MSE: \", mse)\n",
    "print(\"RMSE: \", rmse)"
   ]
  },
  {
   "cell_type": "code",
   "execution_count": 42,
   "metadata": {},
   "outputs": [
    {
     "name": "stdout",
     "output_type": "stream",
     "text": [
      "*** Linear SVR ***\n",
      "Train R-squared:  0.31800245387194037\n",
      "Test R-squared:  0.3979286309123631\n",
      "MAE:  5.7346524086484925\n",
      "MSE:  58.15668078118181\n",
      "RMSE:  7.626052765433886\n"
     ]
    }
   ],
   "source": [
    "svr_mdl = svm.LinearSVR()\n",
    "svr_mdl.fit(X_train,y_train) \n",
    "\n",
    "y_pred = svr_mdl.predict(X_test)\n",
    "\n",
    "train_r2 = svr_mdl.score(X_train,y_train)\n",
    "test_r2  = svr_mdl.score(X_test,y_test)\n",
    "mae      = mean_absolute_error(y_test, y_pred)\n",
    "mse      = mean_squared_error(y_test, y_pred)\n",
    "rmse     = sqrt(mean_squared_error(y_test, y_pred))\n",
    "\n",
    "model_names.append(\"Linear SVR\")\n",
    "train_r2_scores.append(train_r2)\n",
    "test_r2_scores.append(test_r2)\n",
    "mae_values.append(mae)\n",
    "mse_values.append(mse)\n",
    "rmse_values.append(rmse)\n",
    "\n",
    "print(\"*** Linear SVR ***\")\n",
    "print(\"Train R-squared: \", train_r2)\n",
    "print(\"Test R-squared: \", test_r2)\n",
    "print(\"MAE: \", mae)\n",
    "print(\"MSE: \", mse)\n",
    "print(\"RMSE: \", rmse)"
   ]
  },
  {
   "cell_type": "code",
   "execution_count": 40,
   "metadata": {},
   "outputs": [],
   "source": [
    "#RF"
   ]
  },
  {
   "cell_type": "code",
   "execution_count": 41,
   "metadata": {},
   "outputs": [
    {
     "name": "stdout",
     "output_type": "stream",
     "text": [
      "*** Random Forest Regressor ***\n",
      "Train R-squared:  0.9820240246878452\n",
      "Test R-squared:  0.8982655212316965\n",
      "MAE:  2.1254715524965953\n",
      "MSE:  9.826973860480889\n",
      "RMSE:  3.1348004498661295\n"
     ]
    }
   ],
   "source": [
    "rf_mdl = RandomForestRegressor(n_estimators = 1500,max_features='sqrt')\n",
    "rf_mdl.fit(X_train,y_train) \n",
    "\n",
    "y_pred = rf_mdl.predict(X_test)\n",
    "\n",
    "train_r2 = rf_mdl.score(X_train,y_train)\n",
    "test_r2  = rf_mdl.score(X_test,y_test)\n",
    "mae      = mean_absolute_error(y_test, y_pred)\n",
    "mse      = mean_squared_error(y_test, y_pred)\n",
    "rmse     = sqrt(mean_squared_error(y_test, y_pred))\n",
    "\n",
    "model_names.append(\"Random Forest Regressor\")\n",
    "train_r2_scores.append(train_r2)\n",
    "test_r2_scores.append(test_r2)\n",
    "mae_values.append(mae)\n",
    "mse_values.append(mse)\n",
    "rmse_values.append(rmse)\n",
    "\n",
    "print(\"*** Random Forest Regressor ***\")\n",
    "print(\"Train R-squared: \", train_r2)\n",
    "print(\"Test R-squared: \", test_r2)\n",
    "print(\"MAE: \", mae)\n",
    "print(\"MSE: \", mse)\n",
    "print(\"RMSE: \", rmse)"
   ]
  },
  {
   "cell_type": "code",
   "execution_count": 43,
   "metadata": {},
   "outputs": [],
   "source": [
    "# ridge"
   ]
  },
  {
   "cell_type": "code",
   "execution_count": 44,
   "metadata": {},
   "outputs": [
    {
     "name": "stdout",
     "output_type": "stream",
     "text": [
      "*** Ridge ***\n",
      "Train R-squared:  0.7337332781636852\n",
      "Test R-squared:  0.7555033080079605\n",
      "MAE:  3.248482135350766\n",
      "MSE:  23.616994260635988\n",
      "RMSE:  4.859731912424387\n"
     ]
    }
   ],
   "source": [
    "from sklearn.linear_model import LinearRegression, Ridge\n",
    "\n",
    "ridge_mdl = linear_model.Ridge(alpha=0, random_state=0)\n",
    "ridge_mdl.fit(X_train,y_train) \n",
    "\n",
    "y_pred = ridge_mdl.predict(X_test)\n",
    "\n",
    "train_r2 = ridge_mdl.score(X_train,y_train)\n",
    "test_r2  = ridge_mdl.score(X_test,y_test)\n",
    "mae      = mean_absolute_error(y_test, y_pred)\n",
    "mse      = mean_squared_error(y_test, y_pred)\n",
    "rmse     = sqrt(mean_squared_error(y_test, y_pred))\n",
    "\n",
    "model_names.append(\"Ridge\")\n",
    "train_r2_scores.append(train_r2)\n",
    "test_r2_scores.append(test_r2)\n",
    "mae_values.append(mae)\n",
    "mse_values.append(mse)\n",
    "rmse_values.append(rmse)\n",
    "\n",
    "print(\"*** Ridge ***\")\n",
    "print(\"Train R-squared: \", train_r2)\n",
    "print(\"Test R-squared: \", test_r2)\n",
    "print(\"MAE: \", mae)\n",
    "print(\"MSE: \", mse)\n",
    "print(\"RMSE: \", rmse)"
   ]
  },
  {
   "cell_type": "code",
   "execution_count": 47,
   "metadata": {},
   "outputs": [],
   "source": [
    "# DT"
   ]
  },
  {
   "cell_type": "code",
   "execution_count": 48,
   "metadata": {},
   "outputs": [
    {
     "name": "stdout",
     "output_type": "stream",
     "text": [
      "*** Decision Tree Regressor ***\n",
      "Train R-squared:  1.0\n",
      "Test R-squared:  0.6626776022944187\n",
      "MAE:  3.4617646767156867\n",
      "MSE:  32.58343115274567\n",
      "RMSE:  5.7081898315267745\n"
     ]
    }
   ],
   "source": [
    "from sklearn.tree import DecisionTreeRegressor\n",
    "dt= DecisionTreeRegressor()\n",
    "\n",
    "dt.fit(X_train,y_train)\n",
    "y_pred= dt.predict(X_test)\n",
    "\n",
    "train_r2 = dt.score(X_train,y_train)\n",
    "test_r2  = dt.score(X_test,y_test)\n",
    "mae      = mean_absolute_error(y_test, y_pred)\n",
    "mse      = mean_squared_error(y_test, y_pred)\n",
    "rmse     = sqrt(mean_squared_error(y_test, y_pred))\n",
    "\n",
    "model_names.append(\"Decision Tree Regressor\")\n",
    "train_r2_scores.append(train_r2)\n",
    "test_r2_scores.append(test_r2)\n",
    "mae_values.append(mae)\n",
    "mse_values.append(mse)\n",
    "rmse_values.append(rmse)\n",
    "\n",
    "print(\"*** Decision Tree Regressor ***\")\n",
    "print(\"Train R-squared: \", train_r2)\n",
    "print(\"Test R-squared: \", test_r2)\n",
    "print(\"MAE: \", mae)\n",
    "print(\"MSE: \", mse)\n",
    "print(\"RMSE: \", rmse)"
   ]
  },
  {
   "cell_type": "code",
   "execution_count": 49,
   "metadata": {},
   "outputs": [],
   "source": [
    "# ada boost"
   ]
  },
  {
   "cell_type": "code",
   "execution_count": 50,
   "metadata": {},
   "outputs": [
    {
     "name": "stdout",
     "output_type": "stream",
     "text": [
      "*** AdaBoost Regressor ***\n",
      "Train R-squared:  0.9085835658341709\n",
      "Test R-squared:  0.823699426760954\n",
      "MAE:  2.9976967725358765\n",
      "MSE:  17.029635830283336\n",
      "RMSE:  4.12669793300689\n"
     ]
    }
   ],
   "source": [
    "from sklearn.ensemble import AdaBoostRegressor\n",
    "abr=AdaBoostRegressor()\n",
    "\n",
    "abr.fit(X_train,y_train)\n",
    "y_pred= abr.predict(X_test)\n",
    "\n",
    "train_r2 = abr.score(X_train,y_train)\n",
    "test_r2  = abr.score(X_test,y_test)\n",
    "mae      = mean_absolute_error(y_test, y_pred)\n",
    "mse      = mean_squared_error(y_test, y_pred)\n",
    "rmse     = sqrt(mean_squared_error(y_test, y_pred))\n",
    "\n",
    "model_names.append(\"AdaBoost Regressor\")\n",
    "train_r2_scores.append(train_r2)\n",
    "test_r2_scores.append(test_r2)\n",
    "mae_values.append(mae)\n",
    "mse_values.append(mse)\n",
    "rmse_values.append(rmse)\n",
    "\n",
    "print(\"*** AdaBoost Regressor ***\")\n",
    "print(\"Train R-squared: \", train_r2)\n",
    "print(\"Test R-squared: \", test_r2)\n",
    "print(\"MAE: \", mae)\n",
    "print(\"MSE: \", mse)\n",
    "print(\"RMSE: \", rmse)"
   ]
  },
  {
   "cell_type": "code",
   "execution_count": 51,
   "metadata": {},
   "outputs": [],
   "source": [
    "#gboost"
   ]
  },
  {
   "cell_type": "code",
   "execution_count": 53,
   "metadata": {},
   "outputs": [
    {
     "name": "stdout",
     "output_type": "stream",
     "text": [
      "*** GradBoost Regressor ***\n",
      "Train R-squared:  0.9784155624901756\n",
      "Test R-squared:  0.8960555180067181\n",
      "MAE:  2.259366082152361\n",
      "MSE:  10.040447642293852\n",
      "RMSE:  3.16866654009125\n"
     ]
    }
   ],
   "source": [
    "from sklearn.ensemble import GradientBoostingRegressor\n",
    "gbr=GradientBoostingRegressor()\n",
    "\n",
    "gbr.fit(X_train,y_train)\n",
    "y_pred= gbr.predict(X_test)\n",
    "\n",
    "train_r2 = gbr.score(X_train,y_train)\n",
    "test_r2  = gbr.score(X_test,y_test)\n",
    "mae      = mean_absolute_error(y_test, y_pred)\n",
    "mse      = mean_squared_error(y_test, y_pred)\n",
    "rmse     = sqrt(mean_squared_error(y_test, y_pred))\n",
    "\n",
    "model_names.append(\"GradBoost Regressor\")\n",
    "train_r2_scores.append(train_r2)\n",
    "test_r2_scores.append(test_r2)\n",
    "mae_values.append(mae)\n",
    "mse_values.append(mse)\n",
    "rmse_values.append(rmse)\n",
    "\n",
    "print(\"*** GradBoost Regressor ***\")\n",
    "print(\"Train R-squared: \", train_r2)\n",
    "print(\"Test R-squared: \", test_r2)\n",
    "print(\"MAE: \", mae)\n",
    "print(\"MSE: \", mse)\n",
    "print(\"RMSE: \", rmse)"
   ]
  },
  {
   "cell_type": "code",
   "execution_count": 54,
   "metadata": {},
   "outputs": [],
   "source": [
    "# knn"
   ]
  },
  {
   "cell_type": "code",
   "execution_count": 57,
   "metadata": {},
   "outputs": [
    {
     "data": {
      "text/plain": [
       "{'n_neighbors': 3}"
      ]
     },
     "execution_count": 57,
     "metadata": {},
     "output_type": "execute_result"
    }
   ],
   "source": [
    "from sklearn import neighbors\n",
    "from sklearn.model_selection import GridSearchCV\n",
    "params = {'n_neighbors':[2,3,4,5,6,7,8,9]}\n",
    "\n",
    "knn = neighbors.KNeighborsRegressor()\n",
    "\n",
    "model = GridSearchCV(knn, params, cv=5)\n",
    "model.fit(X_train,y_train)\n",
    "model.best_params_"
   ]
  },
  {
   "cell_type": "code",
   "execution_count": 58,
   "metadata": {},
   "outputs": [
    {
     "name": "stdout",
     "output_type": "stream",
     "text": [
      "*** KNN Regressor ***\n",
      "Train R-squared:  0.5916745220285378\n",
      "Test R-squared:  0.472691660347378\n",
      "MAE:  5.011546817674292\n",
      "MSE:  50.93499601036294\n",
      "RMSE:  7.1368757877913875\n"
     ]
    }
   ],
   "source": [
    "from sklearn.neighbors import KNeighborsRegressor\n",
    "neigh = KNeighborsRegressor(n_neighbors=9)\n",
    "\n",
    "\n",
    "neigh.fit(X_train,y_train)\n",
    "y_pred= neigh.predict(X_test)\n",
    "\n",
    "train_r2 = neigh.score(X_train,y_train)\n",
    "test_r2  = neigh.score(X_test,y_test)\n",
    "mae      = mean_absolute_error(y_test, y_pred)\n",
    "mse      = mean_squared_error(y_test, y_pred)\n",
    "rmse     = sqrt(mean_squared_error(y_test, y_pred))\n",
    "\n",
    "model_names.append(\"KNN Regressor\")\n",
    "train_r2_scores.append(train_r2)\n",
    "test_r2_scores.append(test_r2)\n",
    "mae_values.append(mae)\n",
    "mse_values.append(mse)\n",
    "rmse_values.append(rmse)\n",
    "\n",
    "print(\"*** KNN Regressor ***\")\n",
    "print(\"Train R-squared: \", train_r2)\n",
    "print(\"Test R-squared: \", test_r2)\n",
    "print(\"MAE: \", mae)\n",
    "print(\"MSE: \", mse)\n",
    "print(\"RMSE: \", rmse)"
   ]
  },
  {
   "cell_type": "code",
   "execution_count": 59,
   "metadata": {},
   "outputs": [],
   "source": [
    "# polynomial "
   ]
  },
  {
   "cell_type": "code",
   "execution_count": 67,
   "metadata": {},
   "outputs": [
    {
     "name": "stdout",
     "output_type": "stream",
     "text": [
      "*** Linear Regression - Polynomial Features ***\n",
      "Train R-squared:  0.7337332781636852\n",
      "Test R-squared:  0.7555033080079611\n",
      "MAE:  3.248482135350768\n",
      "MSE:  23.616994260635934\n",
      "RMSE:  4.859731912424381\n"
     ]
    }
   ],
   "source": [
    "poly = PolynomialFeatures(degree=2)\n",
    "X_poly= poly.fit_transform(X) \n",
    "\n",
    "lin2 = LinearRegression() \n",
    "lin2.fit(X_train,y_train) \n",
    "\n",
    "y_pred = lin2.predict(X_test)\n",
    "\n",
    "train_r2 = lin2.score(X_train,y_train)\n",
    "test_r2  = lin2.score(X_test,y_test)\n",
    "mae      = mean_absolute_error(y_test, y_pred)\n",
    "mse      = mean_squared_error(y_test, y_pred)\n",
    "rmse     = sqrt(mean_squared_error(y_test, y_pred))\n",
    "\n",
    "model_names.append(\"Linear Regression - Polynomial Features\")\n",
    "train_r2_scores.append(train_r2)\n",
    "test_r2_scores.append(test_r2)\n",
    "mae_values.append(mae)\n",
    "mse_values.append(mse)\n",
    "rmse_values.append(rmse)\n",
    "\n",
    "print(\"*** Linear Regression - Polynomial Features ***\")\n",
    "print(\"Train R-squared: \", train_r2)\n",
    "print(\"Test R-squared: \", test_r2)\n",
    "print(\"MAE: \", mae)\n",
    "print(\"MSE: \", mse)\n",
    "print(\"RMSE: \", rmse)"
   ]
  },
  {
   "cell_type": "code",
   "execution_count": 68,
   "metadata": {},
   "outputs": [],
   "source": [
    "# cmparision "
   ]
  },
  {
   "cell_type": "code",
   "execution_count": 69,
   "metadata": {},
   "outputs": [
    {
     "data": {
      "text/html": [
       "<div>\n",
       "<style scoped>\n",
       "    .dataframe tbody tr th:only-of-type {\n",
       "        vertical-align: middle;\n",
       "    }\n",
       "\n",
       "    .dataframe tbody tr th {\n",
       "        vertical-align: top;\n",
       "    }\n",
       "\n",
       "    .dataframe thead th {\n",
       "        text-align: right;\n",
       "    }\n",
       "</style>\n",
       "<table border=\"1\" class=\"dataframe\">\n",
       "  <thead>\n",
       "    <tr style=\"text-align: right;\">\n",
       "      <th></th>\n",
       "      <th>Train_R2</th>\n",
       "      <th>Test_R2</th>\n",
       "      <th>MAE</th>\n",
       "      <th>MSE</th>\n",
       "      <th>RMSE</th>\n",
       "    </tr>\n",
       "  </thead>\n",
       "  <tbody>\n",
       "    <tr>\n",
       "      <th>Linear Regression</th>\n",
       "      <td>0.733733</td>\n",
       "      <td>0.755503</td>\n",
       "      <td>3.248482</td>\n",
       "      <td>23.616994</td>\n",
       "      <td>4.859732</td>\n",
       "    </tr>\n",
       "    <tr>\n",
       "      <th>SVR - RBF</th>\n",
       "      <td>0.206485</td>\n",
       "      <td>0.215961</td>\n",
       "      <td>5.410813</td>\n",
       "      <td>75.733725</td>\n",
       "      <td>8.702513</td>\n",
       "    </tr>\n",
       "    <tr>\n",
       "      <th>Random Forest Regressor</th>\n",
       "      <td>0.982024</td>\n",
       "      <td>0.898266</td>\n",
       "      <td>2.125472</td>\n",
       "      <td>9.826974</td>\n",
       "      <td>3.134800</td>\n",
       "    </tr>\n",
       "    <tr>\n",
       "      <th>Linear SVR</th>\n",
       "      <td>0.318002</td>\n",
       "      <td>0.397929</td>\n",
       "      <td>5.734652</td>\n",
       "      <td>58.156681</td>\n",
       "      <td>7.626053</td>\n",
       "    </tr>\n",
       "    <tr>\n",
       "      <th>Ridge</th>\n",
       "      <td>0.733733</td>\n",
       "      <td>0.755503</td>\n",
       "      <td>3.248482</td>\n",
       "      <td>23.616994</td>\n",
       "      <td>4.859732</td>\n",
       "    </tr>\n",
       "    <tr>\n",
       "      <th>Decision Tree Regressor</th>\n",
       "      <td>1.000000</td>\n",
       "      <td>0.662678</td>\n",
       "      <td>3.461765</td>\n",
       "      <td>32.583431</td>\n",
       "      <td>5.708190</td>\n",
       "    </tr>\n",
       "    <tr>\n",
       "      <th>AdaBoost Regressor</th>\n",
       "      <td>0.908584</td>\n",
       "      <td>0.823699</td>\n",
       "      <td>2.997697</td>\n",
       "      <td>17.029636</td>\n",
       "      <td>4.126698</td>\n",
       "    </tr>\n",
       "    <tr>\n",
       "      <th>GradBoost Regressor</th>\n",
       "      <td>0.978416</td>\n",
       "      <td>0.896056</td>\n",
       "      <td>2.259366</td>\n",
       "      <td>10.040448</td>\n",
       "      <td>3.168667</td>\n",
       "    </tr>\n",
       "    <tr>\n",
       "      <th>KNN Regressor</th>\n",
       "      <td>0.591675</td>\n",
       "      <td>0.472692</td>\n",
       "      <td>5.011547</td>\n",
       "      <td>50.934996</td>\n",
       "      <td>7.136876</td>\n",
       "    </tr>\n",
       "    <tr>\n",
       "      <th>Linear Regression - Polynomial Features</th>\n",
       "      <td>0.733733</td>\n",
       "      <td>0.755503</td>\n",
       "      <td>3.248482</td>\n",
       "      <td>23.616994</td>\n",
       "      <td>4.859732</td>\n",
       "    </tr>\n",
       "    <tr>\n",
       "      <th>Linear Regression - Polynomial Features</th>\n",
       "      <td>0.733733</td>\n",
       "      <td>0.755503</td>\n",
       "      <td>3.248482</td>\n",
       "      <td>23.616994</td>\n",
       "      <td>4.859732</td>\n",
       "    </tr>\n",
       "    <tr>\n",
       "      <th>Linear Regression - Polynomial Features</th>\n",
       "      <td>0.733733</td>\n",
       "      <td>0.755503</td>\n",
       "      <td>3.248482</td>\n",
       "      <td>23.616994</td>\n",
       "      <td>4.859732</td>\n",
       "    </tr>\n",
       "    <tr>\n",
       "      <th>Linear Regression - Polynomial Features</th>\n",
       "      <td>0.733733</td>\n",
       "      <td>0.755503</td>\n",
       "      <td>3.248482</td>\n",
       "      <td>23.616994</td>\n",
       "      <td>4.859732</td>\n",
       "    </tr>\n",
       "    <tr>\n",
       "      <th>Linear Regression - Polynomial Features</th>\n",
       "      <td>0.733733</td>\n",
       "      <td>0.755503</td>\n",
       "      <td>3.248482</td>\n",
       "      <td>23.616994</td>\n",
       "      <td>4.859732</td>\n",
       "    </tr>\n",
       "    <tr>\n",
       "      <th>Linear Regression - Polynomial Features</th>\n",
       "      <td>0.733733</td>\n",
       "      <td>0.755503</td>\n",
       "      <td>3.248482</td>\n",
       "      <td>23.616994</td>\n",
       "      <td>4.859732</td>\n",
       "    </tr>\n",
       "  </tbody>\n",
       "</table>\n",
       "</div>"
      ],
      "text/plain": [
       "                                         Train_R2   Test_R2       MAE  \\\n",
       "Linear Regression                        0.733733  0.755503  3.248482   \n",
       "SVR - RBF                                0.206485  0.215961  5.410813   \n",
       "Random Forest Regressor                  0.982024  0.898266  2.125472   \n",
       "Linear SVR                               0.318002  0.397929  5.734652   \n",
       "Ridge                                    0.733733  0.755503  3.248482   \n",
       "Decision Tree Regressor                  1.000000  0.662678  3.461765   \n",
       "AdaBoost Regressor                       0.908584  0.823699  2.997697   \n",
       "GradBoost Regressor                      0.978416  0.896056  2.259366   \n",
       "KNN Regressor                            0.591675  0.472692  5.011547   \n",
       "Linear Regression - Polynomial Features  0.733733  0.755503  3.248482   \n",
       "Linear Regression - Polynomial Features  0.733733  0.755503  3.248482   \n",
       "Linear Regression - Polynomial Features  0.733733  0.755503  3.248482   \n",
       "Linear Regression - Polynomial Features  0.733733  0.755503  3.248482   \n",
       "Linear Regression - Polynomial Features  0.733733  0.755503  3.248482   \n",
       "Linear Regression - Polynomial Features  0.733733  0.755503  3.248482   \n",
       "\n",
       "                                               MSE      RMSE  \n",
       "Linear Regression                        23.616994  4.859732  \n",
       "SVR - RBF                                75.733725  8.702513  \n",
       "Random Forest Regressor                   9.826974  3.134800  \n",
       "Linear SVR                               58.156681  7.626053  \n",
       "Ridge                                    23.616994  4.859732  \n",
       "Decision Tree Regressor                  32.583431  5.708190  \n",
       "AdaBoost Regressor                       17.029636  4.126698  \n",
       "GradBoost Regressor                      10.040448  3.168667  \n",
       "KNN Regressor                            50.934996  7.136876  \n",
       "Linear Regression - Polynomial Features  23.616994  4.859732  \n",
       "Linear Regression - Polynomial Features  23.616994  4.859732  \n",
       "Linear Regression - Polynomial Features  23.616994  4.859732  \n",
       "Linear Regression - Polynomial Features  23.616994  4.859732  \n",
       "Linear Regression - Polynomial Features  23.616994  4.859732  \n",
       "Linear Regression - Polynomial Features  23.616994  4.859732  "
      ]
     },
     "execution_count": 69,
     "metadata": {},
     "output_type": "execute_result"
    }
   ],
   "source": [
    "reg_df = pd.DataFrame(list(zip(train_r2_scores, test_r2_scores, mae_values, mse_values, rmse_values)), \n",
    "                      index = model_names, \n",
    "                      columns =['Train_R2', 'Test_R2', 'MAE', 'MSE', 'RMSE']) \n",
    "reg_df"
   ]
  },
  {
   "cell_type": "markdown",
   "metadata": {},
   "source": [
    "## Conclusion -\n",
    "- for boston house price prediction Random forest regressor is the best machine learning algorithm with less bias and variance as compared with other machine learning algorihtm"
   ]
  },
  {
   "cell_type": "code",
   "execution_count": null,
   "metadata": {},
   "outputs": [],
   "source": []
  }
 ],
 "metadata": {
  "kernelspec": {
   "display_name": "Python 3",
   "language": "python",
   "name": "python3"
  },
  "language_info": {
   "codemirror_mode": {
    "name": "ipython",
    "version": 3
   },
   "file_extension": ".py",
   "mimetype": "text/x-python",
   "name": "python",
   "nbconvert_exporter": "python",
   "pygments_lexer": "ipython3",
   "version": "3.8.8"
  }
 },
 "nbformat": 4,
 "nbformat_minor": 4
}
